{
 "cells": [
  {
   "cell_type": "code",
   "execution_count": 2,
   "id": "658ce57e-bc51-4f76-bfd1-995a6eca650b",
   "metadata": {},
   "outputs": [],
   "source": [
    "import pandas as pd\n",
    "import psycopg2\n",
    "from psycopg2.extras import RealDictCursor\n",
    "from datetime import timedelta\n",
    "\n",
    "class PostgresDataHandler:\n",
    "    def __init__(self, db_uri):\n",
    "        self.conn = psycopg2.connect(db_uri, cursor_factory=RealDictCursor) # Connect to DB\n",
    "\n",
    "    def get_data(self, tickers, date, lookback, freq=\"daily\", columns = ['close']):\n",
    "        \"\"\"\n",
    "        Function to easily query data from postgres database\n",
    "\n",
    "        Args:\n",
    "            db_uri: Valid connection Object\n",
    "\n",
    "        Returns:\n",
    "            \n",
    "        \"\"\"\n",
    "        end_date = pd.to_datetime(date) # Convert to pandas datetime object\n",
    "        if freq != \"daily\":\n",
    "            raise ValueError(\"Only daily data is allowed for now\")\n",
    "\n",
    "        start_date = end_date - timedelta(days=lookback) # Calculate start date\n",
    "\n",
    "        selected_cols = ', '.join(['date', 'ticker'] + columns)\n",
    "\n",
    "        sql = f\"\"\"\n",
    "SELECT {selected_cols}\n",
    "FROM ohlcv\n",
    "WHERE ticker = ANY(%s)\n",
    "  AND date BETWEEN %s AND %s\n",
    "ORDER BY date\n",
    "        \"\"\"\n",
    "\n",
    "        with self.conn.cursor() as cur:\n",
    "            cur.execute(sql, (tickers, start_date, end_date))\n",
    "            rows = cur.fetchall()\n",
    "\n",
    "\n",
    "        df = pd.DataFrame(rows)\n",
    "        df['timestamp'] = pd.to_datetime(df['timestamp'])\n",
    "        df = df.pivot(index='timestamp', columns='ticker', values='close')\n",
    "        return df\n",
    "\n",
    "\n",
    "    def close(self):\n",
    "        self.conn.close()\n"
   ]
  },
  {
   "cell_type": "code",
   "execution_count": null,
   "id": "e47ff276-ff5f-4d49-a916-83d4f3637433",
   "metadata": {},
   "outputs": [],
   "source": [
    "db_uri = f\"postgresql://{os.getenv('DB_USER')}:{os.getenv('DB_PASS')}@\" \\\n",
    "         f\"{os.getenv('DB_HOST')}:{os.getenv('DB_PORT')}/{os.getenv('DB_NAME')}\"\n"
   ]
  }
 ],
 "metadata": {
  "kernelspec": {
   "display_name": "Python 3 (ipykernel)",
   "language": "python",
   "name": "python3"
  },
  "language_info": {
   "codemirror_mode": {
    "name": "ipython",
    "version": 3
   },
   "file_extension": ".py",
   "mimetype": "text/x-python",
   "name": "python",
   "nbconvert_exporter": "python",
   "pygments_lexer": "ipython3",
   "version": "3.11.11"
  }
 },
 "nbformat": 4,
 "nbformat_minor": 5
}
